{
  "nbformat": 4,
  "nbformat_minor": 0,
  "metadata": {
    "colab": {
      "name": "Intern_proj_1.ipynb",
      "provenance": [],
      "authorship_tag": "ABX9TyN7/c6gCW/PA3m5c7tNKTQV",
      "include_colab_link": true
    },
    "kernelspec": {
      "name": "python3",
      "display_name": "Python 3"
    },
    "language_info": {
      "name": "python"
    }
  },
  "cells": [
    {
      "cell_type": "markdown",
      "metadata": {
        "id": "view-in-github",
        "colab_type": "text"
      },
      "source": [
        "<a href=\"https://colab.research.google.com/github/ske0318/Intern_project_1/blob/main/Intern_proj_1.ipynb\" target=\"_parent\"><img src=\"https://colab.research.google.com/assets/colab-badge.svg\" alt=\"Open In Colab\"/></a>"
      ]
    },
    {
      "cell_type": "markdown",
      "metadata": {
        "id": "fMUB5-DhFsrU"
      },
      "source": [
        "### **비만과 콜레스테롤 수치와의 관계를 실제 데이터를 바탕으로 살펴보자**<br/>\n",
        "\n",
        "**Goal**<br/>\n",
        "건강검진 데이터를 기반으로, 비만인의 LDL 콜레스테롤 수치 분포를 파이로 표현<br/>\n",
        "<br/>\n",
        "**개발환경**<br/>\n",
        "언어 : 파이썬<br/>\n",
        "라이브러리 : pandas, matplotlib<br/>"
      ]
    },
    {
      "cell_type": "markdown",
      "metadata": {
        "id": "H1CML9rSIGDZ"
      },
      "source": [
        "### 요구사항\n",
        "아래의 링크에서 데이터 다운로드 (csv)<br/>\n",
        "https://www.data.go.kr/data/15007122/fileData.do<br/>\n",
        "+) 데이터의 한글로 되어있는 부분은 인코딩 문제로 인해 영어로 바꿔서 실행\n",
        "<br/>\n",
        "<br/>\n",
        "비만도는 BMI로 계산하고 다음과 같이 분류<br/>\n",
        "저체중 : 20미만<br/>\n",
        "정상 : 20 ~ 24<br/>\n",
        "과체중 : 25 ~ 59<br/>\n",
        "비만 : **30이상**<br/>\n",
        "<br/>\n",
        "LDL 콜레스테롤 수치는 다음과 같이 분류<br/>\n",
        "정상 : 130미만<br/>\n",
        "경계 : 130~159<br/>\n",
        "높은 : 160이상<br/>"
      ]
    },
    {
      "cell_type": "markdown",
      "metadata": {
        "id": "12DvVPmrL_Tx"
      },
      "source": [
        "### 데이터 파일 읽기 및 생김새 살펴보기\n",
        "\n"
      ]
    },
    {
      "cell_type": "code",
      "metadata": {
        "id": "17FpXuOmDBxT"
      },
      "source": [
        "#Pandas module import\n",
        "import pandas as pd"
      ],
      "execution_count": null,
      "outputs": []
    },
    {
      "cell_type": "code",
      "metadata": {
        "colab": {
          "base_uri": "https://localhost:8080/",
          "height": 257
        },
        "id": "7l-R4bkAE8tb",
        "outputId": "ef16112d-3c27-4472-89d7-aa6852fe028b"
      },
      "source": [
        "#csv 파일 읽기\n",
        "csv_data = pd.read_csv('/content/data_20191231.csv', encoding='CP949')\n",
        "\n",
        "#상위 5개 행 출력\n",
        "csv_data.head(5)"
      ],
      "execution_count": null,
      "outputs": [
        {
          "output_type": "execute_result",
          "data": {
            "text/html": [
              "<div>\n",
              "<style scoped>\n",
              "    .dataframe tbody tr th:only-of-type {\n",
              "        vertical-align: middle;\n",
              "    }\n",
              "\n",
              "    .dataframe tbody tr th {\n",
              "        vertical-align: top;\n",
              "    }\n",
              "\n",
              "    .dataframe thead th {\n",
              "        text-align: right;\n",
              "    }\n",
              "</style>\n",
              "<table border=\"1\" class=\"dataframe\">\n",
              "  <thead>\n",
              "    <tr style=\"text-align: right;\">\n",
              "      <th></th>\n",
              "      <th>year</th>\n",
              "      <th>code_p</th>\n",
              "      <th>code_city</th>\n",
              "      <th>code_sex</th>\n",
              "      <th>code_age</th>\n",
              "      <th>height</th>\n",
              "      <th>weight</th>\n",
              "      <th>waist</th>\n",
              "      <th>vision_L</th>\n",
              "      <th>vision_R</th>\n",
              "      <th>hear_L</th>\n",
              "      <th>hear_R</th>\n",
              "      <th>SBP</th>\n",
              "      <th>DBP</th>\n",
              "      <th>pre_bs</th>\n",
              "      <th>cholesterol_total</th>\n",
              "      <th>triglycerides</th>\n",
              "      <th>HDL_cholesterol</th>\n",
              "      <th>LDL_cholesterol</th>\n",
              "      <th>hemoglobin</th>\n",
              "      <th>urine_protein</th>\n",
              "      <th>serum_creatinine</th>\n",
              "      <th>(혈청지오티)AST</th>\n",
              "      <th>ALT</th>\n",
              "      <th>Gamma_GTP</th>\n",
              "      <th>smoking</th>\n",
              "      <th>drinking</th>\n",
              "      <th>oral_exam</th>\n",
              "      <th>dental_caries</th>\n",
              "      <th>missing_teeth</th>\n",
              "      <th>dental_wear</th>\n",
              "      <th>wisdom_tooth</th>\n",
              "      <th>tartar</th>\n",
              "      <th>release_date</th>\n",
              "    </tr>\n",
              "  </thead>\n",
              "  <tbody>\n",
              "    <tr>\n",
              "      <th>0</th>\n",
              "      <td>2019</td>\n",
              "      <td>1</td>\n",
              "      <td>11</td>\n",
              "      <td>1</td>\n",
              "      <td>13</td>\n",
              "      <td>165</td>\n",
              "      <td>65</td>\n",
              "      <td>90.0</td>\n",
              "      <td>1.5</td>\n",
              "      <td>1.2</td>\n",
              "      <td>1.0</td>\n",
              "      <td>1.0</td>\n",
              "      <td>112.0</td>\n",
              "      <td>70.0</td>\n",
              "      <td>93.0</td>\n",
              "      <td>NaN</td>\n",
              "      <td>NaN</td>\n",
              "      <td>NaN</td>\n",
              "      <td>NaN</td>\n",
              "      <td>15.5</td>\n",
              "      <td>1.0</td>\n",
              "      <td>1.0</td>\n",
              "      <td>18.0</td>\n",
              "      <td>32.0</td>\n",
              "      <td>47.0</td>\n",
              "      <td>2.0</td>\n",
              "      <td>NaN</td>\n",
              "      <td>1</td>\n",
              "      <td>0.0</td>\n",
              "      <td>미시행</td>\n",
              "      <td>미시행</td>\n",
              "      <td>미시행</td>\n",
              "      <td>1.0</td>\n",
              "      <td>20191231</td>\n",
              "    </tr>\n",
              "    <tr>\n",
              "      <th>1</th>\n",
              "      <td>2019</td>\n",
              "      <td>2</td>\n",
              "      <td>48</td>\n",
              "      <td>2</td>\n",
              "      <td>5</td>\n",
              "      <td>155</td>\n",
              "      <td>45</td>\n",
              "      <td>64.0</td>\n",
              "      <td>1.2</td>\n",
              "      <td>0.5</td>\n",
              "      <td>1.0</td>\n",
              "      <td>1.0</td>\n",
              "      <td>114.0</td>\n",
              "      <td>76.0</td>\n",
              "      <td>89.0</td>\n",
              "      <td>NaN</td>\n",
              "      <td>NaN</td>\n",
              "      <td>NaN</td>\n",
              "      <td>NaN</td>\n",
              "      <td>14.0</td>\n",
              "      <td>1.0</td>\n",
              "      <td>0.5</td>\n",
              "      <td>15.0</td>\n",
              "      <td>8.0</td>\n",
              "      <td>13.0</td>\n",
              "      <td>1.0</td>\n",
              "      <td>1.0</td>\n",
              "      <td>0</td>\n",
              "      <td>NaN</td>\n",
              "      <td>미시행</td>\n",
              "      <td>미시행</td>\n",
              "      <td>미시행</td>\n",
              "      <td>NaN</td>\n",
              "      <td>20191231</td>\n",
              "    </tr>\n",
              "    <tr>\n",
              "      <th>2</th>\n",
              "      <td>2019</td>\n",
              "      <td>3</td>\n",
              "      <td>41</td>\n",
              "      <td>1</td>\n",
              "      <td>13</td>\n",
              "      <td>160</td>\n",
              "      <td>70</td>\n",
              "      <td>87.0</td>\n",
              "      <td>0.9</td>\n",
              "      <td>0.8</td>\n",
              "      <td>1.0</td>\n",
              "      <td>1.0</td>\n",
              "      <td>109.0</td>\n",
              "      <td>73.0</td>\n",
              "      <td>100.0</td>\n",
              "      <td>232.0</td>\n",
              "      <td>114.0</td>\n",
              "      <td>57.0</td>\n",
              "      <td>152.0</td>\n",
              "      <td>15.6</td>\n",
              "      <td>1.0</td>\n",
              "      <td>1.0</td>\n",
              "      <td>30.0</td>\n",
              "      <td>21.0</td>\n",
              "      <td>17.0</td>\n",
              "      <td>1.0</td>\n",
              "      <td>1.0</td>\n",
              "      <td>0</td>\n",
              "      <td>NaN</td>\n",
              "      <td>미시행</td>\n",
              "      <td>미시행</td>\n",
              "      <td>미시행</td>\n",
              "      <td>NaN</td>\n",
              "      <td>20191231</td>\n",
              "    </tr>\n",
              "    <tr>\n",
              "      <th>3</th>\n",
              "      <td>2019</td>\n",
              "      <td>4</td>\n",
              "      <td>28</td>\n",
              "      <td>1</td>\n",
              "      <td>12</td>\n",
              "      <td>170</td>\n",
              "      <td>60</td>\n",
              "      <td>85.0</td>\n",
              "      <td>0.4</td>\n",
              "      <td>1.2</td>\n",
              "      <td>1.0</td>\n",
              "      <td>1.0</td>\n",
              "      <td>131.0</td>\n",
              "      <td>85.0</td>\n",
              "      <td>85.0</td>\n",
              "      <td>NaN</td>\n",
              "      <td>NaN</td>\n",
              "      <td>NaN</td>\n",
              "      <td>NaN</td>\n",
              "      <td>14.5</td>\n",
              "      <td>1.0</td>\n",
              "      <td>0.7</td>\n",
              "      <td>17.0</td>\n",
              "      <td>19.0</td>\n",
              "      <td>32.0</td>\n",
              "      <td>2.0</td>\n",
              "      <td>1.0</td>\n",
              "      <td>0</td>\n",
              "      <td>NaN</td>\n",
              "      <td>미시행</td>\n",
              "      <td>미시행</td>\n",
              "      <td>미시행</td>\n",
              "      <td>NaN</td>\n",
              "      <td>20191231</td>\n",
              "    </tr>\n",
              "    <tr>\n",
              "      <th>4</th>\n",
              "      <td>2019</td>\n",
              "      <td>5</td>\n",
              "      <td>41</td>\n",
              "      <td>1</td>\n",
              "      <td>10</td>\n",
              "      <td>170</td>\n",
              "      <td>70</td>\n",
              "      <td>81.2</td>\n",
              "      <td>0.7</td>\n",
              "      <td>0.7</td>\n",
              "      <td>1.0</td>\n",
              "      <td>1.0</td>\n",
              "      <td>112.0</td>\n",
              "      <td>66.0</td>\n",
              "      <td>91.0</td>\n",
              "      <td>NaN</td>\n",
              "      <td>NaN</td>\n",
              "      <td>NaN</td>\n",
              "      <td>NaN</td>\n",
              "      <td>14.9</td>\n",
              "      <td>1.0</td>\n",
              "      <td>0.9</td>\n",
              "      <td>19.0</td>\n",
              "      <td>24.0</td>\n",
              "      <td>19.0</td>\n",
              "      <td>2.0</td>\n",
              "      <td>NaN</td>\n",
              "      <td>0</td>\n",
              "      <td>NaN</td>\n",
              "      <td>미시행</td>\n",
              "      <td>미시행</td>\n",
              "      <td>미시행</td>\n",
              "      <td>NaN</td>\n",
              "      <td>20191231</td>\n",
              "    </tr>\n",
              "  </tbody>\n",
              "</table>\n",
              "</div>"
            ],
            "text/plain": [
              "   year  code_p  code_city  ...  wisdom_tooth  tartar  release_date\n",
              "0  2019       1         11  ...           미시행     1.0      20191231\n",
              "1  2019       2         48  ...           미시행     NaN      20191231\n",
              "2  2019       3         41  ...           미시행     NaN      20191231\n",
              "3  2019       4         28  ...           미시행     NaN      20191231\n",
              "4  2019       5         41  ...           미시행     NaN      20191231\n",
              "\n",
              "[5 rows x 34 columns]"
            ]
          },
          "metadata": {
            "tags": []
          },
          "execution_count": 8
        }
      ]
    },
    {
      "cell_type": "markdown",
      "metadata": {
        "id": "7nrBhLtpMNdA"
      },
      "source": [
        "### 필요한 컬럼 추출 후 결측치 제거"
      ]
    },
    {
      "cell_type": "code",
      "metadata": {
        "colab": {
          "base_uri": "https://localhost:8080/",
          "height": 203
        },
        "id": "0DB7I1TkO2T3",
        "outputId": "c2f228d8-2064-436e-ab7f-8829c5099877"
      },
      "source": [
        "#필요한 data 컬럼 가져오기\n",
        "using_data = csv_data.loc[:,['height','weight','cholesterol_total']]\n",
        "\n",
        "#잘 가져왔는지 확인\n",
        "using_data.head(5)"
      ],
      "execution_count": null,
      "outputs": [
        {
          "output_type": "execute_result",
          "data": {
            "text/html": [
              "<div>\n",
              "<style scoped>\n",
              "    .dataframe tbody tr th:only-of-type {\n",
              "        vertical-align: middle;\n",
              "    }\n",
              "\n",
              "    .dataframe tbody tr th {\n",
              "        vertical-align: top;\n",
              "    }\n",
              "\n",
              "    .dataframe thead th {\n",
              "        text-align: right;\n",
              "    }\n",
              "</style>\n",
              "<table border=\"1\" class=\"dataframe\">\n",
              "  <thead>\n",
              "    <tr style=\"text-align: right;\">\n",
              "      <th></th>\n",
              "      <th>height</th>\n",
              "      <th>weight</th>\n",
              "      <th>cholesterol_total</th>\n",
              "    </tr>\n",
              "  </thead>\n",
              "  <tbody>\n",
              "    <tr>\n",
              "      <th>0</th>\n",
              "      <td>165</td>\n",
              "      <td>65</td>\n",
              "      <td>NaN</td>\n",
              "    </tr>\n",
              "    <tr>\n",
              "      <th>1</th>\n",
              "      <td>155</td>\n",
              "      <td>45</td>\n",
              "      <td>NaN</td>\n",
              "    </tr>\n",
              "    <tr>\n",
              "      <th>2</th>\n",
              "      <td>160</td>\n",
              "      <td>70</td>\n",
              "      <td>232.0</td>\n",
              "    </tr>\n",
              "    <tr>\n",
              "      <th>3</th>\n",
              "      <td>170</td>\n",
              "      <td>60</td>\n",
              "      <td>NaN</td>\n",
              "    </tr>\n",
              "    <tr>\n",
              "      <th>4</th>\n",
              "      <td>170</td>\n",
              "      <td>70</td>\n",
              "      <td>NaN</td>\n",
              "    </tr>\n",
              "  </tbody>\n",
              "</table>\n",
              "</div>"
            ],
            "text/plain": [
              "   height  weight  cholesterol_total\n",
              "0     165      65                NaN\n",
              "1     155      45                NaN\n",
              "2     160      70              232.0\n",
              "3     170      60                NaN\n",
              "4     170      70                NaN"
            ]
          },
          "metadata": {
            "tags": []
          },
          "execution_count": 55
        }
      ]
    },
    {
      "cell_type": "code",
      "metadata": {
        "colab": {
          "base_uri": "https://localhost:8080/",
          "height": 203
        },
        "id": "6gREsujXPnGn",
        "outputId": "08cbc8da-2633-4526-bd03-13af482764a7"
      },
      "source": [
        "#결측치 제거\n",
        "data = using_data.dropna(how='any')\n",
        "\n",
        "#data 확인\n",
        "data.head(5)"
      ],
      "execution_count": null,
      "outputs": [
        {
          "output_type": "execute_result",
          "data": {
            "text/html": [
              "<div>\n",
              "<style scoped>\n",
              "    .dataframe tbody tr th:only-of-type {\n",
              "        vertical-align: middle;\n",
              "    }\n",
              "\n",
              "    .dataframe tbody tr th {\n",
              "        vertical-align: top;\n",
              "    }\n",
              "\n",
              "    .dataframe thead th {\n",
              "        text-align: right;\n",
              "    }\n",
              "</style>\n",
              "<table border=\"1\" class=\"dataframe\">\n",
              "  <thead>\n",
              "    <tr style=\"text-align: right;\">\n",
              "      <th></th>\n",
              "      <th>height</th>\n",
              "      <th>weight</th>\n",
              "      <th>cholesterol_total</th>\n",
              "    </tr>\n",
              "  </thead>\n",
              "  <tbody>\n",
              "    <tr>\n",
              "      <th>2</th>\n",
              "      <td>160</td>\n",
              "      <td>70</td>\n",
              "      <td>232.0</td>\n",
              "    </tr>\n",
              "    <tr>\n",
              "      <th>5</th>\n",
              "      <td>170</td>\n",
              "      <td>110</td>\n",
              "      <td>215.0</td>\n",
              "    </tr>\n",
              "    <tr>\n",
              "      <th>6</th>\n",
              "      <td>175</td>\n",
              "      <td>70</td>\n",
              "      <td>148.0</td>\n",
              "    </tr>\n",
              "    <tr>\n",
              "      <th>10</th>\n",
              "      <td>170</td>\n",
              "      <td>75</td>\n",
              "      <td>193.0</td>\n",
              "    </tr>\n",
              "    <tr>\n",
              "      <th>12</th>\n",
              "      <td>150</td>\n",
              "      <td>65</td>\n",
              "      <td>252.0</td>\n",
              "    </tr>\n",
              "  </tbody>\n",
              "</table>\n",
              "</div>"
            ],
            "text/plain": [
              "    height  weight  cholesterol_total\n",
              "2      160      70              232.0\n",
              "5      170     110              215.0\n",
              "6      175      70              148.0\n",
              "10     170      75              193.0\n",
              "12     150      65              252.0"
            ]
          },
          "metadata": {
            "tags": []
          },
          "execution_count": 56
        }
      ]
    },
    {
      "cell_type": "markdown",
      "metadata": {
        "id": "fLd7PCEDNJTS"
      },
      "source": [
        "### BMI 지수 계산"
      ]
    },
    {
      "cell_type": "code",
      "metadata": {
        "colab": {
          "base_uri": "https://localhost:8080/"
        },
        "id": "SC10y7IaQnCp",
        "outputId": "a3f85b7e-eb66-4966-80b7-c57ea0be7319"
      },
      "source": [
        "#BMI 계산 - 체중(kg/m^2)\n",
        "BMI_data = data['weight']/((data['height']/100)**2)\n",
        "\n",
        "#BMI 계산 확인\n",
        "BMI_data.head(5)"
      ],
      "execution_count": null,
      "outputs": [
        {
          "output_type": "execute_result",
          "data": {
            "text/plain": [
              "2     27.343750\n",
              "5     38.062284\n",
              "6     22.857143\n",
              "10    25.951557\n",
              "12    28.888889\n",
              "dtype: float64"
            ]
          },
          "metadata": {
            "tags": []
          },
          "execution_count": 61
        }
      ]
    },
    {
      "cell_type": "code",
      "metadata": {
        "colab": {
          "base_uri": "https://localhost:8080/",
          "height": 203
        },
        "id": "Qa7v0qkmdrHw",
        "outputId": "ae2ad4a4-1a6f-4806-b675-8f1724fd387c"
      },
      "source": [
        "#BMI 지수 병합\n",
        "data = data.copy() #SettingWithCopyWarning 해결\n",
        "data['BMI'] = BMI_data.values\n",
        "\n",
        "#병합 확인\n",
        "data.head(5)"
      ],
      "execution_count": null,
      "outputs": [
        {
          "output_type": "execute_result",
          "data": {
            "text/html": [
              "<div>\n",
              "<style scoped>\n",
              "    .dataframe tbody tr th:only-of-type {\n",
              "        vertical-align: middle;\n",
              "    }\n",
              "\n",
              "    .dataframe tbody tr th {\n",
              "        vertical-align: top;\n",
              "    }\n",
              "\n",
              "    .dataframe thead th {\n",
              "        text-align: right;\n",
              "    }\n",
              "</style>\n",
              "<table border=\"1\" class=\"dataframe\">\n",
              "  <thead>\n",
              "    <tr style=\"text-align: right;\">\n",
              "      <th></th>\n",
              "      <th>height</th>\n",
              "      <th>weight</th>\n",
              "      <th>cholesterol_total</th>\n",
              "      <th>BMI</th>\n",
              "    </tr>\n",
              "  </thead>\n",
              "  <tbody>\n",
              "    <tr>\n",
              "      <th>2</th>\n",
              "      <td>160</td>\n",
              "      <td>70</td>\n",
              "      <td>232.0</td>\n",
              "      <td>27.343750</td>\n",
              "    </tr>\n",
              "    <tr>\n",
              "      <th>5</th>\n",
              "      <td>170</td>\n",
              "      <td>110</td>\n",
              "      <td>215.0</td>\n",
              "      <td>38.062284</td>\n",
              "    </tr>\n",
              "    <tr>\n",
              "      <th>6</th>\n",
              "      <td>175</td>\n",
              "      <td>70</td>\n",
              "      <td>148.0</td>\n",
              "      <td>22.857143</td>\n",
              "    </tr>\n",
              "    <tr>\n",
              "      <th>10</th>\n",
              "      <td>170</td>\n",
              "      <td>75</td>\n",
              "      <td>193.0</td>\n",
              "      <td>25.951557</td>\n",
              "    </tr>\n",
              "    <tr>\n",
              "      <th>12</th>\n",
              "      <td>150</td>\n",
              "      <td>65</td>\n",
              "      <td>252.0</td>\n",
              "      <td>28.888889</td>\n",
              "    </tr>\n",
              "  </tbody>\n",
              "</table>\n",
              "</div>"
            ],
            "text/plain": [
              "    height  weight  cholesterol_total        BMI\n",
              "2      160      70              232.0  27.343750\n",
              "5      170     110              215.0  38.062284\n",
              "6      175      70              148.0  22.857143\n",
              "10     170      75              193.0  25.951557\n",
              "12     150      65              252.0  28.888889"
            ]
          },
          "metadata": {
            "tags": []
          },
          "execution_count": 68
        }
      ]
    },
    {
      "cell_type": "markdown",
      "metadata": {
        "id": "Awx8HgWijbsv"
      },
      "source": [
        "**SettingWithCopyWarning 해결 방안 참고자료**</br>\n",
        "\n",
        "https://velog.io/@jonsyou/%EC%98%A4%EB%A5%98-%EB%85%B8%ED%8A%B8-Pandas-Try-using-.locrowindexercolindexer-value-instead"
      ]
    },
    {
      "cell_type": "markdown",
      "metadata": {
        "id": "I_xxDJkcOycR"
      },
      "source": [
        "### 비만인에 따른 콜레스테롤 수치 선택 및 분류\n",
        "\n",
        "*   필터링 (BMI 지수 비만인 경우만 분리)\n",
        "*   카운팅 (콜레스테롤 수치에 따라 행의 수 카운트)"
      ]
    },
    {
      "cell_type": "code",
      "metadata": {
        "colab": {
          "base_uri": "https://localhost:8080/",
          "height": 203
        },
        "id": "Z2scbchTc4sU",
        "outputId": "c5158825-35d8-4224-c760-15e02d4671ff"
      },
      "source": [
        "#비만인의 콜레스테롤 수치 선택 (필터링)\n",
        "obesity_data = data[data.BMI >= 30].loc[:,['cholesterol_total', 'BMI']]\n",
        "\n",
        "#선택된 수치 확인\n",
        "obesity_data.head(5)"
      ],
      "execution_count": null,
      "outputs": [
        {
          "output_type": "execute_result",
          "data": {
            "text/html": [
              "<div>\n",
              "<style scoped>\n",
              "    .dataframe tbody tr th:only-of-type {\n",
              "        vertical-align: middle;\n",
              "    }\n",
              "\n",
              "    .dataframe tbody tr th {\n",
              "        vertical-align: top;\n",
              "    }\n",
              "\n",
              "    .dataframe thead th {\n",
              "        text-align: right;\n",
              "    }\n",
              "</style>\n",
              "<table border=\"1\" class=\"dataframe\">\n",
              "  <thead>\n",
              "    <tr style=\"text-align: right;\">\n",
              "      <th></th>\n",
              "      <th>cholesterol_total</th>\n",
              "      <th>BMI</th>\n",
              "    </tr>\n",
              "  </thead>\n",
              "  <tbody>\n",
              "    <tr>\n",
              "      <th>5</th>\n",
              "      <td>215.0</td>\n",
              "      <td>38.062284</td>\n",
              "    </tr>\n",
              "    <tr>\n",
              "      <th>98</th>\n",
              "      <td>155.0</td>\n",
              "      <td>34.602076</td>\n",
              "    </tr>\n",
              "    <tr>\n",
              "      <th>112</th>\n",
              "      <td>333.0</td>\n",
              "      <td>31.141869</td>\n",
              "    </tr>\n",
              "    <tr>\n",
              "      <th>132</th>\n",
              "      <td>238.0</td>\n",
              "      <td>31.217482</td>\n",
              "    </tr>\n",
              "    <tr>\n",
              "      <th>177</th>\n",
              "      <td>257.0</td>\n",
              "      <td>33.057851</td>\n",
              "    </tr>\n",
              "  </tbody>\n",
              "</table>\n",
              "</div>"
            ],
            "text/plain": [
              "     cholesterol_total        BMI\n",
              "5                215.0  38.062284\n",
              "98               155.0  34.602076\n",
              "112              333.0  31.141869\n",
              "132              238.0  31.217482\n",
              "177              257.0  33.057851"
            ]
          },
          "metadata": {
            "tags": []
          },
          "execution_count": 73
        }
      ]
    },
    {
      "cell_type": "code",
      "metadata": {
        "colab": {
          "base_uri": "https://localhost:8080/"
        },
        "id": "prwiI09JlfbD",
        "outputId": "1044de6c-97dd-42d0-eeae-9a1e39328f18"
      },
      "source": [
        "#비만인의 콜레스테롤 수치 카운팅\n",
        "normal = len(obesity_data[obesity_data.cholesterol_total < 130])\n",
        "warning = len(obesity_data[(obesity_data.cholesterol_total >= 130) & (obesity_data.cholesterol_total < 160)])\n",
        "high = len(obesity_data[obesity_data.cholesterol_total >= 160])\n",
        "\n",
        "#카운팅 수치 확인\n",
        "print(\"normal : {}, warning : {}, high : {}\".format(normal,warning,high))"
      ],
      "execution_count": null,
      "outputs": [
        {
          "output_type": "stream",
          "text": [
            "normal : 759, warning : 2293, high : 14613\n"
          ],
          "name": "stdout"
        }
      ]
    },
    {
      "cell_type": "markdown",
      "metadata": {
        "id": "RL2xzBSKPO7e"
      },
      "source": [
        "### 콜레스테롤 수치의 비율화 및 자료 시각화"
      ]
    },
    {
      "cell_type": "code",
      "metadata": {
        "colab": {
          "base_uri": "https://localhost:8080/"
        },
        "id": "v7o66nJeqH93",
        "outputId": "8fe409ac-4729-4c21-bb00-62a1b6d7df2f"
      },
      "source": [
        "#수치의 비율화\n",
        "total = normal + warning + high\n",
        "percent_n = normal / total * 100\n",
        "percent_w = warning / total * 100\n",
        "percent_h = high / total * 100\n",
        "\n",
        "#비율 확인\n",
        "print(\"normal : {}, warning : {}, high : {}\".format(percent_n,percent_w,percent_h))"
      ],
      "execution_count": null,
      "outputs": [
        {
          "output_type": "stream",
          "text": [
            "normal : 4.2966317577129916, warning : 12.98046985564676, high : 82.72289838664025\n"
          ],
          "name": "stdout"
        }
      ]
    },
    {
      "cell_type": "code",
      "metadata": {
        "colab": {
          "base_uri": "https://localhost:8080/",
          "height": 248
        },
        "id": "l436acJwpX-L",
        "outputId": "f7f7d61d-3658-41bc-f927-a926f5a45858"
      },
      "source": [
        "#Matplotlib import\n",
        "import matplotlib.pyplot as plt\n",
        "\n",
        "#수치에 따른 그래프 그리기\n",
        "ratio = [percent_n, percent_w, percent_h]\n",
        "labels = ['normal', 'warning', 'high']\n",
        "plt.pie(ratio, labels=labels, autopct='%.2f%%')\n",
        "plt.show()"
      ],
      "execution_count": null,
      "outputs": [
        {
          "output_type": "display_data",
          "data": {
            "image/png": "[encoded data removed]",
            "text/plain": [
              "<Figure size 432x288 with 1 Axes>"
            ]
          },
          "metadata": {
            "tags": []
          }
        }
      ]
    },
    {
      "cell_type": "markdown",
      "metadata": {
        "id": "s-4e5rICPpji"
      },
      "source": [
        "### 참고자료</br>\n",
        "파이썬</br>\n",
        "https://dojang.io/course/view.php?id=7\n",
        "</br>\n",
        "http://tcpschool.com/python2018/intro\n",
        "</br>\n",
        "</br>\n",
        "판다스</br>\n",
        "https://dandyrilla.github.io/2017-08-12/pandas-10min/\n",
        "</br>\n",
        "</br>\n",
        "matplotlib</br>\n",
        "https://wikidocs.net/92114"
      ]
    }
  ]
}